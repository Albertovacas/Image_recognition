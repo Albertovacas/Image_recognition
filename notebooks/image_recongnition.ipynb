{
 "cells": [
  {
   "cell_type": "code",
   "execution_count": null,
   "id": "768b30a2",
   "metadata": {},
   "outputs": [],
   "source": [
    "import cv2\n",
    "import os\n",
    "import numpy as np"
   ]
  },
  {
   "cell_type": "code",
   "execution_count": null,
   "id": "4ab47ed4",
   "metadata": {},
   "outputs": [],
   "source": [
    "import sys\n",
    "CURRENT_DIRECTORY = os.getcwd()\n",
    "sys.path.insert(0,f\"{CURRENT_DIRECTORY}/../src\")  # or any other folder path where the .py file is\n",
    "\n",
    "from image_recognition_utils import FaceDetector"
   ]
  },
  {
   "cell_type": "code",
   "execution_count": null,
   "id": "50e3c319",
   "metadata": {},
   "outputs": [],
   "source": [
    "MODEL_DIRECTORY = f'{os.getcwd()}/../model'\n",
    "SRC_DIRECTORY = f'{os.getcwd()}/../src'\n",
    "DATA_DIRECTORY = f'{os.getcwd()}/../data'\n",
    "RESULTS_DIRECTORY = f'{os.getcwd()}/../results'"
   ]
  },
  {
   "cell_type": "code",
   "execution_count": null,
   "id": "68e69834",
   "metadata": {},
   "outputs": [],
   "source": [
    "# Paths\n",
    "model = f\"{MODEL_DIRECTORY}/res10_300x300_ssd_iter_140000.caffemodel\"\n",
    "config_file= f\"{MODEL_DIRECTORY}/deploy.prototxt\"\n",
    "\n",
    "# Load the DNN model\n",
    "net = cv2.dnn.readNetFromCaffe(config_file, model)"
   ]
  },
  {
   "cell_type": "code",
   "execution_count": null,
   "id": "009398d6",
   "metadata": {},
   "outputs": [],
   "source": [
    "face_detector = FaceDetector(model = net)"
   ]
  },
  {
   "cell_type": "code",
   "execution_count": null,
   "id": "3a05a749",
   "metadata": {},
   "outputs": [],
   "source": [
    "face_detector.get_faces()"
   ]
  },
  {
   "cell_type": "code",
   "execution_count": null,
   "id": "6da54730",
   "metadata": {},
   "outputs": [],
   "source": [
    "face_detector.find_images_with_all_faces(threshold=0.7)"
   ]
  },
  {
   "cell_type": "code",
   "execution_count": null,
   "id": "4fa6274d",
   "metadata": {},
   "outputs": [],
   "source": []
  }
 ],
 "metadata": {
  "kernelspec": {
   "display_name": ".venv",
   "language": "python",
   "name": "python3"
  },
  "language_info": {
   "codemirror_mode": {
    "name": "ipython",
    "version": 3
   },
   "file_extension": ".py",
   "mimetype": "text/x-python",
   "name": "python",
   "nbconvert_exporter": "python",
   "pygments_lexer": "ipython3",
   "version": "3.13.3"
  }
 },
 "nbformat": 4,
 "nbformat_minor": 5
}
